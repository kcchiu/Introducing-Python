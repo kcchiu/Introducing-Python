{
 "cells": [
  {
   "cell_type": "code",
   "execution_count": 2,
   "metadata": {},
   "outputs": [
    {
     "name": "stdout",
     "output_type": "stream",
     "text": [
      "\n",
      "=====================================\n",
      "Tuning SVM with custom Gaussian kernels\n",
      "=====================================\n",
      "\n",
      "Author: Kuan-Cheng Chiu\n",
      "\n",
      "Adapted from scikit_learn documentation.\n",
      "\n",
      "\n",
      "Fitting 2 folds for each of 2600 candidates, totalling 5200 fits\n"
     ]
    },
    {
     "name": "stderr",
     "output_type": "stream",
     "text": [
      "[Parallel(n_jobs=-1)]: Done   2 tasks      | elapsed:    1.5s\n",
      "[Parallel(n_jobs=-1)]: Done   9 tasks      | elapsed:    3.5s\n",
      "[Parallel(n_jobs=-1)]: Done  16 tasks      | elapsed:    3.5s\n",
      "[Parallel(n_jobs=-1)]: Done  25 tasks      | elapsed:    3.5s\n",
      "[Parallel(n_jobs=-1)]: Batch computation too fast (0.1814s.) Setting batch_size=2.\n",
      "[Parallel(n_jobs=-1)]: Done  34 tasks      | elapsed:    3.5s\n",
      "[Parallel(n_jobs=-1)]: Done  45 tasks      | elapsed:    3.5s\n",
      "[Parallel(n_jobs=-1)]: Batch computation too fast (0.0313s.) Setting batch_size=24.\n",
      "[Parallel(n_jobs=-1)]: Done  64 tasks      | elapsed:    3.6s\n",
      "[Parallel(n_jobs=-1)]: Done 200 tasks      | elapsed:    3.8s\n",
      "[Parallel(n_jobs=-1)]: Done 512 tasks      | elapsed:    4.1s\n",
      "[Parallel(n_jobs=-1)]: Done 872 tasks      | elapsed:    4.3s\n",
      "[Parallel(n_jobs=-1)]: Done 1232 tasks      | elapsed:    4.7s\n",
      "[Parallel(n_jobs=-1)]: Done 1640 tasks      | elapsed:    5.0s\n",
      "[Parallel(n_jobs=-1)]: Done 2048 tasks      | elapsed:    5.3s\n",
      "[Parallel(n_jobs=-1)]: Done 2504 tasks      | elapsed:    5.6s\n",
      "[Parallel(n_jobs=-1)]: Done 2960 tasks      | elapsed:    5.9s\n",
      "[Parallel(n_jobs=-1)]: Done 3464 tasks      | elapsed:    6.3s\n",
      "[Parallel(n_jobs=-1)]: Done 3968 tasks      | elapsed:    6.7s\n",
      "[Parallel(n_jobs=-1)]: Done 4520 tasks      | elapsed:    7.1s\n"
     ]
    },
    {
     "name": "stdout",
     "output_type": "stream",
     "text": [
      "best score: 0.6615384615384615\n",
      "best param: {'clf__C': 0.3, 'clf__gamma': 15, 'clf__kernel': 'rbf'}\n"
     ]
    },
    {
     "name": "stderr",
     "output_type": "stream",
     "text": [
      "[Parallel(n_jobs=-1)]: Done 5200 out of 5200 | elapsed:    7.3s finished\n"
     ]
    }
   ],
   "source": [
    "\"\"\"\n",
    "=====================================\n",
    "Tuning SVM with custom Gaussian kernels\n",
    "=====================================\n",
    "\n",
    "Author: Kuan-Cheng Chiu\n",
    "\n",
    "Adapted from scikit_learn documentation.\n",
    "\n",
    "\"\"\"\n",
    "print(__doc__)\n",
    "\n",
    "import numpy as np\n",
    "import matplotlib.pyplot as plt\n",
    "from sklearn import svm, datasets\n",
    "#from svmKernels import myGaussianKernel\n",
    "#from svmKernels import _gaussSigma\n",
    "from sklearn.pipeline import Pipeline\n",
    "from sklearn.grid_search import GridSearchCV\n",
    "from sklearn.svm import SVC\n",
    "from sklearn.preprocessing import StandardScaler\n",
    "from sklearn import preprocessing\n",
    "\n",
    "# import some data to play with\n",
    "#iris = datasets.load_iris()\n",
    "\n",
    "filePath = \"data/svmTuningData2.csv\"\n",
    "file = open(filePath,'r')\n",
    "allData = np.loadtxt(file, delimiter=',')\n",
    "    \n",
    "X = allData[:, :2]  # we only take the first two features\n",
    "Y = allData[:,2]\n",
    "\n",
    "#print (X,Y)\n",
    "#print (\"Training the SVMs...\")\n",
    "\n",
    "C = 1.0  # value of C for the SVMs\n",
    "X = preprocessing.scale(X) \n",
    "#print (X,Y)\n",
    "pipe_svc = Pipeline([('scl', StandardScaler()),\n",
    "                     ('clf', SVC())])\n",
    "#param_range = [0.01, 0.03, 0.06, 0.1, 0.3, 0.6, 1, 3, 6, 10, 30, 60, 100]\n",
    "param_range_C = [0.01, 0.03, 0.06, 0.1, 0.3, 0.6, 1, 3, 6, 10, 30, 60, 100]\n",
    "param_range_G = np.arange(0,1000,5)\n",
    "#param_range = [10,100]\n",
    "param_grid = [{'clf__C':param_range_C,\n",
    "               'clf__gamma':param_range_G,\n",
    "               'clf__kernel':['rbf']}]\n",
    "gs = GridSearchCV(estimator=pipe_svc,\n",
    "                  param_grid=param_grid,\n",
    "                  scoring='accuracy',\n",
    "                  cv=2,\n",
    "                  n_jobs=-1,\n",
    "                  verbose=10)\n",
    "gs = gs.fit(X,Y)\n",
    "print (\"best score:\", gs.best_score_)\n",
    "print (\"best param:\",gs.best_params_)"
   ]
  },
  {
   "cell_type": "code",
   "execution_count": 3,
   "metadata": {},
   "outputs": [
    {
     "name": "stdout",
     "output_type": "stream",
     "text": [
      "\n",
      "=====================================\n",
      "Tuning SVM with custom Gaussian kernels\n",
      "=====================================\n",
      "\n",
      "Author: Kuan-Cheng Chiu\n",
      "\n",
      "Adapted from scikit_learn documentation.\n",
      "\n",
      "\n",
      "Fitting 2 folds for each of 2600 candidates, totalling 5200 fits\n"
     ]
    },
    {
     "name": "stderr",
     "output_type": "stream",
     "text": [
      "[Parallel(n_jobs=-1)]: Done   2 tasks      | elapsed:    1.6s\n",
      "[Parallel(n_jobs=-1)]: Done   9 tasks      | elapsed:    3.8s\n",
      "[Parallel(n_jobs=-1)]: Done  16 tasks      | elapsed:    3.8s\n",
      "[Parallel(n_jobs=-1)]: Done  25 tasks      | elapsed:    3.8s\n",
      "[Parallel(n_jobs=-1)]: Done  34 tasks      | elapsed:    3.8s\n",
      "[Parallel(n_jobs=-1)]: Batch computation too fast (0.1650s.) Setting batch_size=2.\n",
      "[Parallel(n_jobs=-1)]: Done  45 tasks      | elapsed:    3.8s\n",
      "[Parallel(n_jobs=-1)]: Batch computation too fast (0.0315s.) Setting batch_size=24.\n",
      "[Parallel(n_jobs=-1)]: Done  63 tasks      | elapsed:    3.9s\n",
      "[Parallel(n_jobs=-1)]: Done 177 tasks      | elapsed:    4.1s\n",
      "[Parallel(n_jobs=-1)]: Done 489 tasks      | elapsed:    4.4s\n",
      "[Parallel(n_jobs=-1)]: Done 849 tasks      | elapsed:    4.6s\n",
      "[Parallel(n_jobs=-1)]: Done 1209 tasks      | elapsed:    4.9s\n",
      "[Parallel(n_jobs=-1)]: Done 1617 tasks      | elapsed:    5.2s\n",
      "[Parallel(n_jobs=-1)]: Done 2025 tasks      | elapsed:    5.5s\n",
      "[Parallel(n_jobs=-1)]: Done 2481 tasks      | elapsed:    5.9s\n",
      "[Parallel(n_jobs=-1)]: Done 2937 tasks      | elapsed:    6.2s\n",
      "[Parallel(n_jobs=-1)]: Done 3441 tasks      | elapsed:    6.6s\n",
      "[Parallel(n_jobs=-1)]: Done 3945 tasks      | elapsed:    7.0s\n",
      "[Parallel(n_jobs=-1)]: Done 4497 tasks      | elapsed:    7.4s\n"
     ]
    },
    {
     "name": "stdout",
     "output_type": "stream",
     "text": [
      "best score: 0.5217840982546866\n",
      "best param: {'clf__C': 0.3, 'clf__gamma': 5, 'clf__kernel': 'rbf'}\n"
     ]
    },
    {
     "name": "stderr",
     "output_type": "stream",
     "text": [
      "[Parallel(n_jobs=-1)]: Done 5200 out of 5200 | elapsed:    7.8s finished\n"
     ]
    }
   ],
   "source": [
    "\"\"\"\n",
    "=====================================\n",
    "Tuning SVM with custom Gaussian kernels\n",
    "=====================================\n",
    "\n",
    "Author: Kuan-Cheng Chiu\n",
    "\n",
    "Adapted from scikit_learn documentation.\n",
    "\n",
    "\"\"\"\n",
    "print(__doc__)\n",
    "\n",
    "import numpy as np\n",
    "import matplotlib.pyplot as plt\n",
    "from sklearn import svm, datasets\n",
    "#from svmKernels import myGaussianKernel\n",
    "#from svmKernels import _gaussSigma\n",
    "from sklearn.pipeline import Pipeline\n",
    "from sklearn.grid_search import GridSearchCV\n",
    "from sklearn.svm import SVC\n",
    "from sklearn.preprocessing import StandardScaler\n",
    "from sklearn import preprocessing\n",
    "\n",
    "# import some data to play with\n",
    "#iris = datasets.load_iris()\n",
    "\n",
    "filePath = \"data/svmTuningData2.csv\"\n",
    "file = open(filePath,'r')\n",
    "allData = np.loadtxt(file, delimiter=',')\n",
    "    \n",
    "X = allData[:, :2]  # we only take the first two features\n",
    "Y = allData[:,2]\n",
    "\n",
    "#print (X,Y)\n",
    "#print (\"Training the SVMs...\")\n",
    "\n",
    "C = 1.0  # value of C for the SVMs\n",
    "X = preprocessing.scale(X) \n",
    "#print (X,Y)\n",
    "pipe_svc = Pipeline([('scl', StandardScaler()),\n",
    "                     ('clf', SVC())])\n",
    "#param_range = [0.01, 0.03, 0.06, 0.1, 0.3, 0.6, 1, 3, 6, 10, 30, 60, 100]\n",
    "param_range_C = [0.01, 0.03, 0.06, 0.1, 0.3, 0.6, 1, 3, 6, 10, 30, 60, 100]\n",
    "param_range_G = np.arange(0,1000,5)\n",
    "#param_range = [10,100]\n",
    "param_grid = [{'clf__C':param_range_C,\n",
    "               'clf__gamma':param_range_G,\n",
    "               'clf__kernel':['rbf']}]\n",
    "gs = GridSearchCV(estimator=pipe_svc,\n",
    "                  param_grid=param_grid,\n",
    "                  scoring='f1',\n",
    "                  cv=2,\n",
    "                  n_jobs=-1,\n",
    "                  verbose=10)\n",
    "gs = gs.fit(X,Y)\n",
    "print (\"best score:\", gs.best_score_)\n",
    "print (\"best param:\",gs.best_params_)"
   ]
  },
  {
   "cell_type": "code",
   "execution_count": null,
   "metadata": {
    "collapsed": true
   },
   "outputs": [],
   "source": []
  }
 ],
 "metadata": {
  "kernelspec": {
   "display_name": "Python 3",
   "language": "python",
   "name": "python3"
  },
  "language_info": {
   "codemirror_mode": {
    "name": "ipython",
    "version": 3
   },
   "file_extension": ".py",
   "mimetype": "text/x-python",
   "name": "python",
   "nbconvert_exporter": "python",
   "pygments_lexer": "ipython3",
   "version": "3.6.1"
  }
 },
 "nbformat": 4,
 "nbformat_minor": 2
}
